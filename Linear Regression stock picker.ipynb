{
 "cells": [
  {
   "cell_type": "code",
   "execution_count": null,
   "id": "eaddc3f6",
   "metadata": {},
   "outputs": [],
   "source": [
    "import numpy as np\n",
    "import pandas as pd\n",
    "from sklearn.linear_model import LinearRegression\n",
    "from sklearn.metrics import mean_squared_error\n",
    "\n",
    "import warnings\n",
    "warnings.filterwarnings(\"ignore\")\n",
    "\n",
    "min_buy_val = 20\n",
    "max_buy_val = 100\n",
    "num_days_lin_reg = 20"
   ]
  },
  {
   "cell_type": "code",
   "execution_count": null,
   "id": "31a6e302",
   "metadata": {},
   "outputs": [],
   "source": [
    "df = pd.read_excel('all stocks50 days.xlsx', index_col=0)"
   ]
  },
  {
   "cell_type": "code",
   "execution_count": null,
   "id": "010a2bb1",
   "metadata": {},
   "outputs": [],
   "source": [
    "df_copy = df.copy()\n",
    "df_copy = df_copy.drop(columns=['Capital Gains'])\n",
    "df_copy = df_copy.drop(columns=['Adj Close'])\n",
    "df_copy = df_copy[df_copy['Volume'] > 0]\n",
    "df_copy = df_copy[(df_copy['Open'] >= min_buy_val) & (df_copy['Open'] <= max_buy_val) ]\n",
    "\n",
    "#display(df_copy)"
   ]
  },
  {
   "cell_type": "code",
   "execution_count": null,
   "id": "dbd85584",
   "metadata": {},
   "outputs": [],
   "source": [
    "indexes = df_copy.Symbol.value_counts().loc[lambda x: x>=50].index  #get indexes that have 50 or more entries\n",
    "df_g50 = df_copy[df_copy['Symbol'].isin(indexes)] #put only those indexes into df\n",
    "df_g50 = df_g50.reset_index()\n",
    "df_g50 = df_g50.drop(columns=['Date'])\n",
    "\n",
    "#display(df_g50)"
   ]
  },
  {
   "cell_type": "code",
   "execution_count": null,
   "id": "fd000dd0",
   "metadata": {},
   "outputs": [],
   "source": [
    "#this cell runs slow - i will buy you a cookie if you can speed it up\n",
    "\n",
    "reg = LinearRegression()\n",
    "df_g50['Open slope'] = 0\n",
    "df_g50['Open Linear reg MSE'] = 0\n",
    "\n",
    "X_train = np.arange(0, 20, 1).reshape(-1, 1)\n",
    "\n",
    "unique_symbols = df_g50['Symbol'].unique()\n",
    "\n",
    "#for index in range(5):   #for testing - leave in place\n",
    " #   symbol = unique_symbols[index]\n",
    "\n",
    "#predict on the first 20 and test on the same - in future versions these will be learned params\n",
    "for symbol in unique_symbols:\n",
    "    subset = df_g50[df_g50['Symbol'] == symbol].iloc[0:num_days_lin_reg, :]\n",
    "    Y1 = subset['Open']\n",
    "    \n",
    "    model1 = reg.fit(X_train, Y1)\n",
    "    prediction1 = model1.predict(X_train)\n",
    "    mse1 = mean_squared_error(Y1, prediction1)\n",
    "    \n",
    "    subset = df_g50[df_g50['Symbol'] == symbol]\n",
    "    df_g50.loc[subset.index, 'Open slope'] = model1.coef_[0]\n",
    "    df_g50.loc[subset.index, 'Open Linear reg MSE'] = mse1\n",
    "\n",
    "stocks_to_buy = df_g50.groupby('Symbol').apply(lambda group: group.iloc[20:, :])"
   ]
  },
  {
   "cell_type": "code",
   "execution_count": null,
   "id": "391a3cfc",
   "metadata": {},
   "outputs": [],
   "source": [
    "display(stocks_to_buy)\n",
    "stocks_to_buy.to_csv('stocks to buy.csv', index=True)"
   ]
  },
  {
   "cell_type": "code",
   "execution_count": null,
   "id": "258ad7b1",
   "metadata": {},
   "outputs": [],
   "source": []
  },
  {
   "cell_type": "code",
   "execution_count": null,
   "id": "08b39341",
   "metadata": {},
   "outputs": [],
   "source": []
  },
  {
   "cell_type": "code",
   "execution_count": null,
   "id": "c5012374",
   "metadata": {},
   "outputs": [],
   "source": []
  },
  {
   "cell_type": "code",
   "execution_count": null,
   "id": "d0a901d8",
   "metadata": {},
   "outputs": [],
   "source": []
  }
 ],
 "metadata": {
  "kernelspec": {
   "display_name": "Python 3 (ipykernel)",
   "language": "python",
   "name": "python3"
  },
  "language_info": {
   "codemirror_mode": {
    "name": "ipython",
    "version": 3
   },
   "file_extension": ".py",
   "mimetype": "text/x-python",
   "name": "python",
   "nbconvert_exporter": "python",
   "pygments_lexer": "ipython3",
   "version": "3.12.4"
  }
 },
 "nbformat": 4,
 "nbformat_minor": 5
}
