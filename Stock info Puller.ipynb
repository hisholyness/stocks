{
 "cells": [
  {
   "cell_type": "code",
   "execution_count": null,
   "id": "13d19201",
   "metadata": {},
   "outputs": [],
   "source": [
    "import pandas as pd\n",
    "import numpy as np\n",
    "import datetime\n",
    "import yfinance as yf\n",
    "\n",
    "df = pd.read_csv('stock_tickers/nasdaq_screener_1712527070153.csv')"
   ]
  },
  {
   "cell_type": "code",
   "execution_count": null,
   "id": "440db16c",
   "metadata": {},
   "outputs": [],
   "source": [
    "all_stocks = pd.DataFrame()\n",
    "\n",
    "for item in df['Symbol'].tolist():\n",
    "    if isinstance(item, str):\n",
    "        if \"^\" not in item:\n",
    "            try:\n",
    "                information = yf.Ticker(item)\n",
    "                new_row = information.history(period=\"50d\")\n",
    "                new_row['Symbol'] = item\n",
    "                all_stocks = pd.concat([all_stocks, new_row], ignore_index=False, axis=0)\n",
    "                \n",
    "            except:\n",
    "                pass\n",
    "            \n",
    "    \n",
    "display(all_stocks.head())           "
   ]
  },
  {
   "cell_type": "code",
   "execution_count": null,
   "id": "11ce2b20",
   "metadata": {},
   "outputs": [],
   "source": [
    "all_stocks_copy = all_stocks.copy()\n",
    "all_stocks_copy.to_csv('all stocks50 days.csv', index=True)"
   ]
  }
 ],
 "metadata": {
  "kernelspec": {
   "display_name": "Python 3 (ipykernel)",
   "language": "python",
   "name": "python3"
  },
  "language_info": {
   "codemirror_mode": {
    "name": "ipython",
    "version": 3
   },
   "file_extension": ".py",
   "mimetype": "text/x-python",
   "name": "python",
   "nbconvert_exporter": "python",
   "pygments_lexer": "ipython3",
   "version": "3.9.15"
  }
 },
 "nbformat": 4,
 "nbformat_minor": 5
}
