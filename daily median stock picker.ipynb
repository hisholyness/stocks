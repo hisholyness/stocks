{
 "cells": [
  {
   "cell_type": "code",
   "execution_count": null,
   "id": "c06a0cb7-838f-47e4-bd8c-5618c3d9e324",
   "metadata": {},
   "outputs": [],
   "source": [
    "import pandas as pd\n",
    "import warnings\n",
    "warnings.filterwarnings(\"ignore\")"
   ]
  },
  {
   "cell_type": "code",
   "execution_count": null,
   "id": "e5748072-bab7-4c69-b394-7ac0258f1cca",
   "metadata": {},
   "outputs": [],
   "source": [
    "df = pd.read_excel('all stocks50 days.xlsx', index_col=0)"
   ]
  },
  {
   "cell_type": "code",
   "execution_count": null,
   "id": "c2e0ab9f-4455-4865-9b01-00f2323fdc1b",
   "metadata": {},
   "outputs": [],
   "source": [
    "df_copy = df.copy()\n",
    "df_copy = df_copy.drop(columns=['Capital Gains'])\n",
    "df_copy = df_copy.drop(columns=['Adj Close'])"
   ]
  },
  {
   "cell_type": "code",
   "execution_count": null,
   "id": "8ecd82cb-019b-4178-94b1-d2be424215c7",
   "metadata": {},
   "outputs": [],
   "source": [
    "indexes = df_copy.Symbol.value_counts().loc[lambda x: x>=50].index  #get indexes that have 50 or more entries\n",
    "df_g50 = df_copy[df_copy['Symbol'].isin(indexes)] #put only those indexes into df"
   ]
  },
  {
   "cell_type": "code",
   "execution_count": null,
   "id": "84eb5d06-8229-4350-84b6-608f0057ce78",
   "metadata": {},
   "outputs": [],
   "source": [
    "df_g50['HL day mean'] = df_g50.loc[:, 'Low'] + (df_g50.loc[:, 'High'] - df_g50.loc[:, 'Low'])/2   #high low day mean\n",
    "df_g50['OC day mean'] = df_g50[['Open', 'Close']].min(axis=1) + abs(df_g50['Open'] - df_g50['Close'])/2  #open close day mean\n",
    "\n",
    "#display(df_g50.head())"
   ]
  },
  {
   "cell_type": "code",
   "execution_count": null,
   "id": "68a8132e-c74e-44d3-8e52-22c0a6f610ce",
   "metadata": {},
   "outputs": [],
   "source": [
    "#runs slow - cookie to the person who can speed it up\n",
    "\n",
    "#find the median for the first 20 days \n",
    "df_g50['Symbol HL median'] = 0\n",
    "df_g50['Symbol OC median'] = 0\n",
    "unique_symbols = df_g50['Symbol'].unique()\n",
    "\n",
    "#for index in range(5):   #for testing - leave in place\n",
    " #   symbol = unique_symbols[index]\n",
    "\n",
    "for symbol in unique_symbols:\n",
    "    subset = df_g50[df_g50['Symbol'] == symbol].iloc[0:20, :]\n",
    "    symbol_hl_median = subset['HL day mean'].median()\n",
    "    symbol_oc_median = subset['OC day mean'].median()\n",
    "    subset = df_g50[df_g50['Symbol'] == symbol]\n",
    "    df_g50.loc[subset.index, 'Symbol HL median'] = symbol_hl_median\n",
    "    df_g50.loc[subset.index, 'Symbol OC median'] = symbol_oc_median\n"
   ]
  },
  {
   "cell_type": "code",
   "execution_count": null,
   "id": "2ab6cccf-63ae-4522-b3af-5110e7c117dd",
   "metadata": {},
   "outputs": [],
   "source": [
    "df_b30 = df_g50.groupby('Symbol').apply(lambda group: group.iloc[20:21, :])"
   ]
  },
  {
   "cell_type": "code",
   "execution_count": null,
   "id": "87fb98d8-9b8c-4235-9c9a-59626cff0f3b",
   "metadata": {},
   "outputs": [],
   "source": [
    "#compute the percent of the median the stock is closing\n",
    "df_b30['OC percent'] = df_b30['Close'] / df_b30['Symbol OC median']\n",
    "df_b30['HL percent'] = df_b30['Close'] / df_b30['Symbol HL median']\n"
   ]
  },
  {
   "cell_type": "code",
   "execution_count": null,
   "id": "5c581e43-188e-44c4-8ab0-5efde5479402",
   "metadata": {},
   "outputs": [],
   "source": [
    "#find stocks that are 95% of the median to 100% of the median\n",
    "stocks_to_buy = df_b30[(df_b30['OC percent'] <= 1) & (df_b30['OC percent'] > .95) & (df_b30['Volume'] > 0)]"
   ]
  },
  {
   "cell_type": "code",
   "execution_count": null,
   "id": "5c7ff32b-6b85-4cdb-ab41-94134810f83e",
   "metadata": {},
   "outputs": [],
   "source": [
    "display(stocks_to_buy)"
   ]
  },
  {
   "cell_type": "code",
   "execution_count": null,
   "id": "c7270e4e",
   "metadata": {},
   "outputs": [],
   "source": []
  }
 ],
 "metadata": {
  "kernelspec": {
   "display_name": "Python 3 (ipykernel)",
   "language": "python",
   "name": "python3"
  },
  "language_info": {
   "codemirror_mode": {
    "name": "ipython",
    "version": 3
   },
   "file_extension": ".py",
   "mimetype": "text/x-python",
   "name": "python",
   "nbconvert_exporter": "python",
   "pygments_lexer": "ipython3",
   "version": "3.9.15"
  }
 },
 "nbformat": 4,
 "nbformat_minor": 5
}
